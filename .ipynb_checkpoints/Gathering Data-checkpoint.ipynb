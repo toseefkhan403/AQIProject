{
 "cells": [
  {
   "cell_type": "code",
   "execution_count": 52,
   "id": "8f9e6964",
   "metadata": {},
   "outputs": [],
   "source": [
    "import pandas as pd\n",
    "import numpy as np\n",
    "import os\n",
    "import os.path\n",
    "from os import path\n",
    "import sys"
   ]
  },
  {
   "cell_type": "code",
   "execution_count": 53,
   "id": "f8b5adff",
   "metadata": {},
   "outputs": [
    {
     "data": {
      "text/html": [
       "<div>\n",
       "<style scoped>\n",
       "    .dataframe tbody tr th:only-of-type {\n",
       "        vertical-align: middle;\n",
       "    }\n",
       "\n",
       "    .dataframe tbody tr th {\n",
       "        vertical-align: top;\n",
       "    }\n",
       "\n",
       "    .dataframe thead th {\n",
       "        text-align: right;\n",
       "    }\n",
       "</style>\n",
       "<table border=\"1\" class=\"dataframe\">\n",
       "  <thead>\n",
       "    <tr style=\"text-align: right;\">\n",
       "      <th></th>\n",
       "      <th>date</th>\n",
       "      <th>pm25</th>\n",
       "    </tr>\n",
       "  </thead>\n",
       "  <tbody>\n",
       "    <tr>\n",
       "      <th>1102</th>\n",
       "      <td>2018-01-06</td>\n",
       "      <td>323</td>\n",
       "    </tr>\n",
       "    <tr>\n",
       "      <th>646</th>\n",
       "      <td>2019-08-27</td>\n",
       "      <td>97</td>\n",
       "    </tr>\n",
       "    <tr>\n",
       "      <th>460</th>\n",
       "      <td>2020-02-16</td>\n",
       "      <td>183</td>\n",
       "    </tr>\n",
       "    <tr>\n",
       "      <th>341</th>\n",
       "      <td>2020-04-19</td>\n",
       "      <td>82</td>\n",
       "    </tr>\n",
       "    <tr>\n",
       "      <th>1445</th>\n",
       "      <td>2017-02-27</td>\n",
       "      <td>153</td>\n",
       "    </tr>\n",
       "  </tbody>\n",
       "</table>\n",
       "</div>"
      ],
      "text/plain": [
       "           date   pm25\n",
       "1102 2018-01-06    323\n",
       "646  2019-08-27     97\n",
       "460  2020-02-16    183\n",
       "341  2020-04-19     82\n",
       "1445 2017-02-27    153"
      ]
     },
     "execution_count": 53,
     "metadata": {},
     "output_type": "execute_result"
    }
   ],
   "source": [
    "df = pd.read_csv('Data/new-delhi us embassy, india-air-quality.csv')\n",
    "df['date'] = pd.to_datetime(df['date'])\n",
    "df.sample(5)"
   ]
  },
  {
   "cell_type": "code",
   "execution_count": 54,
   "id": "b2e76bd3",
   "metadata": {
    "scrolled": true
   },
   "outputs": [],
   "source": [
    "years = list(range(2010,2021))\n",
    "months = [\"%02d\"%x for x in range(1, 13)]\n",
    "result = pd.DataFrame()\n",
    "\n",
    "for year in years:\n",
    "    for month in months:\n",
    "        loc=\"/home/toseef/Desktop/AQIProject/Data/Scrapped_Data/\"+str(year)+\"/\"+str(month)+\".csv\"\n",
    "        ff = pd.read_csv(loc)\n",
    "        ff['Day'] = pd.to_datetime({'year': year,'month': month,'day': ff['Day']})\n",
    "        #print(ff.sample(10))\n",
    "        result = result.append(ff)\n"
   ]
  },
  {
   "cell_type": "code",
   "execution_count": 55,
   "id": "08d3faf9",
   "metadata": {
    "scrolled": false
   },
   "outputs": [],
   "source": [
    "final = pd.merge(df, result,  how='left', left_on='date', right_on='Day')"
   ]
  },
  {
   "cell_type": "code",
   "execution_count": 56,
   "id": "4c9d2296",
   "metadata": {},
   "outputs": [
    {
     "data": {
      "text/html": [
       "<div>\n",
       "<style scoped>\n",
       "    .dataframe tbody tr th:only-of-type {\n",
       "        vertical-align: middle;\n",
       "    }\n",
       "\n",
       "    .dataframe tbody tr th {\n",
       "        vertical-align: top;\n",
       "    }\n",
       "\n",
       "    .dataframe thead th {\n",
       "        text-align: right;\n",
       "    }\n",
       "</style>\n",
       "<table border=\"1\" class=\"dataframe\">\n",
       "  <thead>\n",
       "    <tr style=\"text-align: right;\">\n",
       "      <th></th>\n",
       "      <th>Date</th>\n",
       "      <th>PM 2.5</th>\n",
       "      <th>T</th>\n",
       "      <th>TM</th>\n",
       "      <th>Tm</th>\n",
       "      <th>SLP</th>\n",
       "      <th>H</th>\n",
       "      <th>PP</th>\n",
       "      <th>VV</th>\n",
       "      <th>V</th>\n",
       "      <th>VM</th>\n",
       "    </tr>\n",
       "  </thead>\n",
       "  <tbody>\n",
       "    <tr>\n",
       "      <th>136</th>\n",
       "      <td>2020-10-01</td>\n",
       "      <td>142</td>\n",
       "      <td>30.5</td>\n",
       "      <td>37</td>\n",
       "      <td>21.9</td>\n",
       "      <td>1004</td>\n",
       "      <td>53</td>\n",
       "      <td>0</td>\n",
       "      <td>3.2</td>\n",
       "      <td>8.5</td>\n",
       "      <td>16.5</td>\n",
       "    </tr>\n",
       "    <tr>\n",
       "      <th>137</th>\n",
       "      <td>2020-10-02</td>\n",
       "      <td>154</td>\n",
       "      <td>29.9</td>\n",
       "      <td>36.7</td>\n",
       "      <td>20.6</td>\n",
       "      <td>1004.9</td>\n",
       "      <td>58</td>\n",
       "      <td>0</td>\n",
       "      <td>3.4</td>\n",
       "      <td>4.8</td>\n",
       "      <td>16.5</td>\n",
       "    </tr>\n",
       "    <tr>\n",
       "      <th>138</th>\n",
       "      <td>2020-10-03</td>\n",
       "      <td>153</td>\n",
       "      <td>29.5</td>\n",
       "      <td>36.4</td>\n",
       "      <td>20.3</td>\n",
       "      <td>1006.3</td>\n",
       "      <td>54</td>\n",
       "      <td>0</td>\n",
       "      <td>3.5</td>\n",
       "      <td>4.8</td>\n",
       "      <td>7.6</td>\n",
       "    </tr>\n",
       "    <tr>\n",
       "      <th>142</th>\n",
       "      <td>2020-10-07</td>\n",
       "      <td>162</td>\n",
       "      <td>29.3</td>\n",
       "      <td>36.4</td>\n",
       "      <td>18.6</td>\n",
       "      <td>1009.1</td>\n",
       "      <td>56</td>\n",
       "      <td>0</td>\n",
       "      <td>3.4</td>\n",
       "      <td>4.3</td>\n",
       "      <td>16.5</td>\n",
       "    </tr>\n",
       "    <tr>\n",
       "      <th>143</th>\n",
       "      <td>2020-10-08</td>\n",
       "      <td>158</td>\n",
       "      <td>28.9</td>\n",
       "      <td>36</td>\n",
       "      <td>19.1</td>\n",
       "      <td>1008.9</td>\n",
       "      <td>58</td>\n",
       "      <td>0</td>\n",
       "      <td>2.9</td>\n",
       "      <td>4.3</td>\n",
       "      <td>9.4</td>\n",
       "    </tr>\n",
       "  </tbody>\n",
       "</table>\n",
       "</div>"
      ],
      "text/plain": [
       "          Date  PM 2.5     T    TM    Tm     SLP   H PP   VV    V    VM\n",
       "136 2020-10-01     142  30.5    37  21.9    1004  53  0  3.2  8.5  16.5\n",
       "137 2020-10-02     154  29.9  36.7  20.6  1004.9  58  0  3.4  4.8  16.5\n",
       "138 2020-10-03     153  29.5  36.4  20.3  1006.3  54  0  3.5  4.8   7.6\n",
       "142 2020-10-07     162  29.3  36.4  18.6  1009.1  56  0  3.4  4.3  16.5\n",
       "143 2020-10-08     158  28.9    36  19.1  1008.9  58  0  2.9  4.3   9.4"
      ]
     },
     "execution_count": 56,
     "metadata": {},
     "output_type": "execute_result"
    }
   ],
   "source": [
    "final = final.dropna(how='any',axis=0)\n",
    "final = final.drop(['Day'],axis=1)\n",
    "final = final.rename(columns={\" pm25\": \"PM 2.5\",\"date\":\"Date\"})\n",
    "final.head()"
   ]
  },
  {
   "cell_type": "code",
   "execution_count": 58,
   "id": "28877117",
   "metadata": {},
   "outputs": [],
   "source": [
    "final.to_csv(\"Data/Data.csv\",index = False)"
   ]
  }
 ],
 "metadata": {
  "kernelspec": {
   "display_name": "Python 3",
   "language": "python",
   "name": "python3"
  },
  "language_info": {
   "codemirror_mode": {
    "name": "ipython",
    "version": 3
   },
   "file_extension": ".py",
   "mimetype": "text/x-python",
   "name": "python",
   "nbconvert_exporter": "python",
   "pygments_lexer": "ipython3",
   "version": "3.6.9"
  }
 },
 "nbformat": 4,
 "nbformat_minor": 5
}
